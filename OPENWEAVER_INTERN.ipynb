{
  "nbformat": 4,
  "nbformat_minor": 0,
  "metadata": {
    "colab": {
      "provenance": [],
      "authorship_tag": "ABX9TyPVPI8fnbhrSqRGWjSG+xZ0",
      "include_colab_link": true
    },
    "kernelspec": {
      "name": "python3",
      "display_name": "Python 3"
    },
    "language_info": {
      "name": "python"
    }
  },
  "cells": [
    {
      "cell_type": "markdown",
      "metadata": {
        "id": "view-in-github",
        "colab_type": "text"
      },
      "source": [
        "<a href=\"https://colab.research.google.com/github/PARAMESHWARAN155/Main/blob/main/OPENWEAVER_INTERN.ipynb\" target=\"_parent\"><img src=\"https://colab.research.google.com/assets/colab-badge.svg\" alt=\"Open In Colab\"/></a>"
      ]
    },
    {
      "cell_type": "code",
      "execution_count": null,
      "metadata": {
        "colab": {
          "base_uri": "https://localhost:8080/",
          "height": 510
        },
        "id": "8JO51fPvuUHy",
        "outputId": "7a7cdfad-42ff-46cd-c529-a77d5bb2215f"
      },
      "outputs": [
        {
          "output_type": "stream",
          "name": "stdout",
          "text": [
            "Slope: 1.9745886031304993\n",
            "Intercept: 1.6447170608426855\n"
          ]
        },
        {
          "output_type": "display_data",
          "data": {
            "text/plain": [
              "<Figure size 640x480 with 1 Axes>"
            ],
            "image/png": "[encoded data removed]"
          },
          "metadata": {}
        }
      ],
      "source": [
        "import numpy as np\n",
        "import matplotlib.pyplot as plt\n",
        "from sklearn.model_selection import train_test_split\n",
        "from sklearn.linear_model import LinearRegression\n",
        "\n",
        "# Generate some example data\n",
        "np.random.seed(0)\n",
        "X = np.random.rand(100, 1) * 10\n",
        "y = 2 * X + 1 + np.random.randn(100, 1) * 2\n",
        "\n",
        "# Split the data into training and testing sets\n",
        "X_train, X_test, y_train, y_test = train_test_split(X, y, test_size=0.2, random_state=0)\n",
        "\n",
        "# Create a linear regression model\n",
        "model = LinearRegression()\n",
        "\n",
        "# Train the model on the training data\n",
        "model.fit(X_train, y_train)\n",
        "\n",
        "# Make predictions on the test data\n",
        "y_pred = model.predict(X_test)\n",
        "\n",
        "# Print the coefficients (slope and intercept)\n",
        "print(\"Slope:\", model.coef_[0][0])\n",
        "print(\"Intercept:\", model.intercept_[0])\n",
        "\n",
        "# Visualize the regression line\n",
        "plt.scatter(X_test, y_test, color='blue')\n",
        "plt.plot(X_test, y_pred, color='red', linewidth=2)\n",
        "plt.xlabel('X')\n",
        "plt.ylabel('y')\n",
        "plt.title('Linear Regression')\n",
        "plt.show()\n"
      ]
    },
    {
      "cell_type": "code",
      "source": [
        "import pandas as pd\n",
        "\n",
        "# Create a dictionary of data\n",
        "data = {\n",
        "    'Name': ['Alice', 'Bob', 'Charlie', 'David', 'Emily'],\n",
        "    'Age': [25, 30, 22, 28, 24],\n",
        "    'Salary': [50000, 60000, 45000, 55000, 52000]\n",
        "}\n",
        "\n",
        "# Create a DataFrame\n",
        "df = pd.DataFrame(data)\n",
        "\n",
        "# Display the contents of the DataFrame\n",
        "print(\"DataFrame contents:\")\n",
        "print(df)\n",
        "\n",
        "# Calculate basic statistics for numeric columns\n",
        "print(\"\\nBasic statistics for numeric columns:\")\n",
        "print(df.describe())\n",
        "\n",
        "# Filter and display rows based on a specific condition\n",
        "filtered_df = df[df['Age'] > 25]\n",
        "print(\"\\nRows where Age is greater than 25:\")\n",
        "print(filtered_df)\n",
        "\n",
        "# Add a new column to the DataFrame\n",
        "df['Experience'] = [3, 5, 2, 6, 4]\n",
        "print(\"\\nDataFrame with a new 'Experience' column:\")\n",
        "print(df)\n"
      ],
      "metadata": {
        "colab": {
          "base_uri": "https://localhost:8080/"
        },
        "id": "HQPB9e07vr8S",
        "outputId": "6dc145d7-e8b8-4cdb-8ba6-9f6e6c1c5a17"
      },
      "execution_count": null,
      "outputs": [
        {
          "output_type": "stream",
          "name": "stdout",
          "text": [
            "DataFrame contents:\n",
            "      Name  Age  Salary\n",
            "0    Alice   25   50000\n",
            "1      Bob   30   60000\n",
            "2  Charlie   22   45000\n",
            "3    David   28   55000\n",
            "4    Emily   24   52000\n",
            "\n",
            "Basic statistics for numeric columns:\n",
            "             Age        Salary\n",
            "count   5.000000      5.000000\n",
            "mean   25.800000  52400.000000\n",
            "std     3.193744   5594.640292\n",
            "min    22.000000  45000.000000\n",
            "25%    24.000000  50000.000000\n",
            "50%    25.000000  52000.000000\n",
            "75%    28.000000  55000.000000\n",
            "max    30.000000  60000.000000\n",
            "\n",
            "Rows where Age is greater than 25:\n",
            "    Name  Age  Salary\n",
            "1    Bob   30   60000\n",
            "3  David   28   55000\n",
            "\n",
            "DataFrame with a new 'Experience' column:\n",
            "      Name  Age  Salary  Experience\n",
            "0    Alice   25   50000           3\n",
            "1      Bob   30   60000           5\n",
            "2  Charlie   22   45000           2\n",
            "3    David   28   55000           6\n",
            "4    Emily   24   52000           4\n"
          ]
        }
      ]
    },
    {
      "cell_type": "code",
      "source": [
        "import numpy as np\n",
        "import pandas as pd\n",
        "from sklearn.metrics import confusion_matrix\n",
        "\n",
        "# Example ground truth labels and predicted labels for binary classification\n",
        "y_true = np.array([1, 0, 1, 1, 0, 1, 0, 0, 1, 0])\n",
        "y_pred = np.array([1, 0, 1, 0, 0, 1, 0, 1, 1, 1])\n",
        "\n",
        "# Compute confusion matrix\n",
        "cm = confusion_matrix(y_true, y_pred)\n",
        "\n",
        "# Create a DataFrame to label rows and columns\n",
        "confusion_df = pd.DataFrame(cm, index=['Actual Negative', 'Actual Positive'], columns=['Predicted Negative', 'Predicted Positive'])\n",
        "\n",
        "print(confusion_df)\n"
      ],
      "metadata": {
        "colab": {
          "base_uri": "https://localhost:8080/"
        },
        "id": "ya-yh5FZv7fo",
        "outputId": "e5845def-f9b2-4d67-8865-8c3986159235"
      },
      "execution_count": null,
      "outputs": [
        {
          "output_type": "stream",
          "name": "stdout",
          "text": [
            "                 Predicted Negative  Predicted Positive\n",
            "Actual Negative                   3                   2\n",
            "Actual Positive                   1                   4\n"
          ]
        }
      ]
    },
    {
      "cell_type": "code",
      "source": [
        "import numpy as np\n",
        "import matplotlib.pyplot as plt\n",
        "from sklearn.linear_model import LinearRegression\n",
        "\n",
        "# Generate some example data\n",
        "np.random.seed(0)\n",
        "X = np.random.rand(100, 1) * 10\n",
        "y = 2 * X + 1 + np.random.randn(100, 1) * 2\n",
        "\n",
        "# Create a linear regression model\n",
        "model = LinearRegression()\n",
        "\n",
        "# Train the model on the data\n",
        "model.fit(X, y)\n",
        "\n",
        "# Make predictions\n",
        "X_test = np.array([[5]])  # Example input for prediction\n",
        "y_pred = model.predict(X_test)\n",
        "\n",
        "# Print coefficients (slope and intercept)\n",
        "print(\"Slope:\", model.coef_[0][0])\n",
        "print(\"Intercept:\", model.intercept_[0])\n",
        "print(\"Predicted y:\", y_pred[0][0])\n",
        "\n",
        "# Visualize the regression line\n",
        "plt.scatter(X, y, color='blue', label='Data points')\n",
        "plt.plot(X, model.predict(X), color='red', linewidth=2, label='Regression line')\n",
        "plt.xlabel('X')\n",
        "plt.ylabel('y')\n",
        "plt.title('Linear Regression')\n",
        "plt.legend()\n",
        "plt.show()\n"
      ],
      "metadata": {
        "colab": {
          "base_uri": "https://localhost:8080/",
          "height": 528
        },
        "id": "FAPIVI7fyac3",
        "outputId": "95751755-c53c-489e-ef05-1b2b7d9da5ea"
      },
      "execution_count": null,
      "outputs": [
        {
          "output_type": "stream",
          "name": "stdout",
          "text": [
            "Slope: 1.9873870042804076\n",
            "Intercept: 1.4443021548944586\n",
            "Predicted y: 11.381237176296496\n"
          ]
        },
        {
          "output_type": "display_data",
          "data": {
            "text/plain": [
              "<Figure size 640x480 with 1 Axes>"
            ],
            "image/png": "[encoded data removed]"
          },
          "metadata": {}
        }
      ]
    },
    {
      "cell_type": "code",
      "source": [
        "import pandas as pd\n",
        "\n",
        "# Create a dictionary of data\n",
        "data = {\n",
        "    'Name': ['Alice', 'Bob', 'Charlie', 'David', 'Emily'],\n",
        "    'Age': [25, 30, 22, 28, 24],\n",
        "    'Salary': [50000, 60000, 45000, 55000, 52000]\n",
        "}\n",
        "\n",
        "# Create a DataFrame\n",
        "df = pd.DataFrame(data)\n",
        "\n",
        "# Display the contents of the DataFrame\n",
        "print(\"DataFrame contents:\")\n",
        "print(df)\n",
        "\n",
        "# Calculate basic statistics for numeric columns\n",
        "print(\"\\nBasic statistics for numeric columns:\")\n",
        "print(df.describe())\n",
        "\n",
        "# Filter and display rows based on a specific condition\n",
        "filtered_df = df[df['Age'] > 25]\n",
        "print(\"\\nRows where Age is greater than 25:\")\n",
        "print(filtered_df)\n",
        "\n",
        "# Add a new column to the DataFrame\n",
        "df['Experience'] = [3, 5, 2, 6, 4]\n",
        "print(\"\\nDataFrame with a new 'Experience' column:\")\n",
        "print(df)\n"
      ],
      "metadata": {
        "colab": {
          "base_uri": "https://localhost:8080/"
        },
        "id": "ksd7wuJKy9OY",
        "outputId": "50a54035-f6da-4fc4-b11d-611ae8c3bce9"
      },
      "execution_count": null,
      "outputs": [
        {
          "output_type": "stream",
          "name": "stdout",
          "text": [
            "DataFrame contents:\n",
            "      Name  Age  Salary\n",
            "0    Alice   25   50000\n",
            "1      Bob   30   60000\n",
            "2  Charlie   22   45000\n",
            "3    David   28   55000\n",
            "4    Emily   24   52000\n",
            "\n",
            "Basic statistics for numeric columns:\n",
            "             Age        Salary\n",
            "count   5.000000      5.000000\n",
            "mean   25.800000  52400.000000\n",
            "std     3.193744   5594.640292\n",
            "min    22.000000  45000.000000\n",
            "25%    24.000000  50000.000000\n",
            "50%    25.000000  52000.000000\n",
            "75%    28.000000  55000.000000\n",
            "max    30.000000  60000.000000\n",
            "\n",
            "Rows where Age is greater than 25:\n",
            "    Name  Age  Salary\n",
            "1    Bob   30   60000\n",
            "3  David   28   55000\n",
            "\n",
            "DataFrame with a new 'Experience' column:\n",
            "      Name  Age  Salary  Experience\n",
            "0    Alice   25   50000           3\n",
            "1      Bob   30   60000           5\n",
            "2  Charlie   22   45000           2\n",
            "3    David   28   55000           6\n",
            "4    Emily   24   52000           4\n"
          ]
        }
      ]
    },
    {
      "cell_type": "code",
      "source": [
        "from sklearn.datasets import load_breast_cancer\n",
        "from sklearn.model_selection import train_test_split\n",
        "from sklearn.ensemble import RandomForestClassifier, GradientBoostingClassifier\n",
        "from sklearn.svm import SVC\n",
        "from sklearn.metrics import accuracy_score, confusion_matrix, classification_report\n",
        "data = load_breast_cancer()\n",
        "X = data.data\n",
        "y = data.target\n",
        "X_train, X_test, y_train, y_test = train_test_split(X, y, test_size=0.2, random_state=42)\n",
        "svm_model = SVC(kernel='linear')\n",
        "svm_model.fit(X_train, y_train)\n",
        "svm_predictions = svm_model.predict(X_test)\n",
        "svm_accuracy = accuracy_score(y_test, svm_predictions)\n",
        "svm_conf_matrix = confusion_matrix(y_test, svm_predictions)\n",
        "svm_report = classification_report(y_test, svm_predictions)\n",
        "rf_model = RandomForestClassifier(n_estimators=100, random_state=42)\n",
        "rf_model.fit(X_train, y_train)\n",
        "rf_predictions = rf_model.predict(X_test)\n",
        "rf_accuracy = accuracy_score(y_test, rf_predictions)\n",
        "rf_conf_matrix = confusion_matrix(y_test, rf_predictions)\n",
        "rf_report = classification_report(y_test, rf_predictions)\n",
        "gb_model = GradientBoostingClassifier(n_estimators=100, random_state=42)\n",
        "gb_model.fit(X_train, y_train)\n",
        "gb_predictions = gb_model.predict(X_test)\n",
        "gb_accuracy = accuracy_score(y_test, gb_predictions)\n",
        "gb_conf_matrix = confusion_matrix(y_test, gb_predictions)\n",
        "gb_report = classification_report(y_test, gb_predictions)\n",
        "\n",
        "print(\"SVM Model:\")\n",
        "print(\"Accuracy:\", svm_accuracy)\n",
        "print(\"Confusion Matrix:\\n\", svm_conf_matrix)\n",
        "print(\"Classification Report:\\n\", svm_report)\n",
        "\n",
        "print(\"\\nRandom Forest Model:\")\n",
        "print(\"Accuracy:\", rf_accuracy)\n",
        "print(\"Confusion Matrix:\\n\", rf_conf_matrix)\n",
        "print(\"Classification Report:\\n\", rf_report)\n",
        "\n",
        "print(\"\\nGradient Boosting Model:\")\n",
        "print(\"Accuracy:\", gb_accuracy)\n",
        "print(\"Confusion Matrix:\\n\", gb_conf_matrix)\n",
        "print(\"Classification Report:\\n\", gb_report)\n",
        "\n"
      ],
      "metadata": {
        "colab": {
          "base_uri": "https://localhost:8080/"
        },
        "id": "6EQCPXAj0BzD",
        "outputId": "8febbfe7-2682-4c18-8557-8b5684b52a5c"
      },
      "execution_count": null,
      "outputs": [
        {
          "output_type": "stream",
          "name": "stdout",
          "text": [
            "SVM Model:\n",
            "Accuracy: 0.956140350877193\n",
            "Confusion Matrix:\n",
            " [[39  4]\n",
            " [ 1 70]]\n",
            "Classification Report:\n",
            "               precision    recall  f1-score   support\n",
            "\n",
            "           0       0.97      0.91      0.94        43\n",
            "           1       0.95      0.99      0.97        71\n",
            "\n",
            "    accuracy                           0.96       114\n",
            "   macro avg       0.96      0.95      0.95       114\n",
            "weighted avg       0.96      0.96      0.96       114\n",
            "\n",
            "\n",
            "Random Forest Model:\n",
            "Accuracy: 0.9649122807017544\n",
            "Confusion Matrix:\n",
            " [[40  3]\n",
            " [ 1 70]]\n",
            "Classification Report:\n",
            "               precision    recall  f1-score   support\n",
            "\n",
            "           0       0.98      0.93      0.95        43\n",
            "           1       0.96      0.99      0.97        71\n",
            "\n",
            "    accuracy                           0.96       114\n",
            "   macro avg       0.97      0.96      0.96       114\n",
            "weighted avg       0.97      0.96      0.96       114\n",
            "\n",
            "\n",
            "Gradient Boosting Model:\n",
            "Accuracy: 0.956140350877193\n",
            "Confusion Matrix:\n",
            " [[40  3]\n",
            " [ 2 69]]\n",
            "Classification Report:\n",
            "               precision    recall  f1-score   support\n",
            "\n",
            "           0       0.95      0.93      0.94        43\n",
            "           1       0.96      0.97      0.97        71\n",
            "\n",
            "    accuracy                           0.96       114\n",
            "   macro avg       0.96      0.95      0.95       114\n",
            "weighted avg       0.96      0.96      0.96       114\n",
            "\n"
          ]
        }
      ]
    },
    {
      "cell_type": "code",
      "source": [
        "from sklearn.datasets import load_breast_cancer\n",
        "from sklearn.model_selection import train_test_split\n",
        "from sklearn.tree import DecisionTreeClassifier\n",
        "from sklearn.metrics import accuracy_score, precision_score, recall_score, classification_report\n",
        "\n",
        "data = load_breast_cancer()\n",
        "X = data.data\n",
        "y = data.target\n",
        "X_train, X_test, y_train, y_test = train_test_split(X, y, test_size=0.2, random_state=42)\n",
        "\n",
        "dt_model = DecisionTreeClassifier(random_state=42)\n",
        "dt_model.fit(X_train, y_train)\n",
        "dt_predictions = dt_model.predict(X_test)\n",
        "dt_accuracy = accuracy_score(y_test, dt_predictions)\n",
        "dt_precision = precision_score(y_test, dt_predictions)\n",
        "dt_recall = recall_score(y_test, dt_predictions)\n",
        "dt_report = classification_report(y_test, dt_predictions)\n",
        "\n",
        "print(\"Decision Tree Model:\")\n",
        "print(\"Accuracy:\", dt_accuracy)\n",
        "print(\"Precision:\", dt_precision)\n",
        "print(\"Recall:\", dt_recall)\n",
        "print(\"Classification Report:\\n\", dt_report)\n"
      ],
      "metadata": {
        "colab": {
          "base_uri": "https://localhost:8080/"
        },
        "id": "1FQ_GQqa1VE_",
        "outputId": "accdd899-0cfb-443e-c12e-e927d2b717e4"
      },
      "execution_count": null,
      "outputs": [
        {
          "output_type": "stream",
          "name": "stdout",
          "text": [
            "Decision Tree Model:\n",
            "Accuracy: 0.9473684210526315\n",
            "Precision: 0.9577464788732394\n",
            "Recall: 0.9577464788732394\n",
            "Classification Report:\n",
            "               precision    recall  f1-score   support\n",
            "\n",
            "           0       0.93      0.93      0.93        43\n",
            "           1       0.96      0.96      0.96        71\n",
            "\n",
            "    accuracy                           0.95       114\n",
            "   macro avg       0.94      0.94      0.94       114\n",
            "weighted avg       0.95      0.95      0.95       114\n",
            "\n"
          ]
        }
      ]
    }
  ]
}